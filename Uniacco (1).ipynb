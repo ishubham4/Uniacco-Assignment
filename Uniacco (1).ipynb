{
 "cells": [
  {
   "cell_type": "markdown",
   "id": "ed7a860d-e383-4b80-b613-770fa8b8003c",
   "metadata": {},
   "source": [
    "Loading various libraries"
   ]
  },
  {
   "cell_type": "code",
   "execution_count": 1,
   "id": "7b50d11f-b035-48d4-80c3-014e07956ad2",
   "metadata": {},
   "outputs": [
    {
     "name": "stdout",
     "output_type": "stream",
     "text": [
      "Requirement already satisfied: matplotlib in c:\\users\\21213\\appdata\\local\\programs\\python\\python38\\lib\\site-packages (3.6.3)\n",
      "Requirement already satisfied: contourpy>=1.0.1 in c:\\users\\21213\\appdata\\local\\programs\\python\\python38\\lib\\site-packages (from matplotlib) (1.0.7)\n",
      "Requirement already satisfied: fonttools>=4.22.0 in c:\\users\\21213\\appdata\\local\\programs\\python\\python38\\lib\\site-packages (from matplotlib) (4.38.0)\n",
      "Requirement already satisfied: cycler>=0.10 in c:\\users\\21213\\appdata\\local\\programs\\python\\python38\\lib\\site-packages (from matplotlib) (0.11.0)\n",
      "Requirement already satisfied: kiwisolver>=1.0.1 in c:\\users\\21213\\appdata\\local\\programs\\python\\python38\\lib\\site-packages (from matplotlib) (1.4.4)\n",
      "Requirement already satisfied: pillow>=6.2.0 in c:\\users\\21213\\appdata\\local\\programs\\python\\python38\\lib\\site-packages (from matplotlib) (9.4.0)\n",
      "Requirement already satisfied: packaging>=20.0 in c:\\users\\21213\\appdata\\local\\programs\\python\\python38\\lib\\site-packages (from matplotlib) (22.0)\n",
      "Requirement already satisfied: pyparsing>=2.2.1 in c:\\users\\21213\\appdata\\local\\programs\\python\\python38\\lib\\site-packages (from matplotlib) (3.0.9)\n",
      "Requirement already satisfied: python-dateutil>=2.7 in c:\\users\\21213\\appdata\\local\\programs\\python\\python38\\lib\\site-packages (from matplotlib) (2.8.2)\n",
      "Requirement already satisfied: numpy>=1.19 in c:\\users\\21213\\appdata\\local\\programs\\python\\python38\\lib\\site-packages (from matplotlib) (1.23.5)\n",
      "Requirement already satisfied: six>=1.5 in c:\\users\\21213\\appdata\\local\\programs\\python\\python38\\lib\\site-packages (from python-dateutil>=2.7->matplotlib) (1.16.0)\n"
     ]
    },
    {
     "name": "stderr",
     "output_type": "stream",
     "text": [
      "\n",
      "[notice] A new release of pip available: 22.3.1 -> 23.0\n",
      "[notice] To update, run: python.exe -m pip install --upgrade pip\n"
     ]
    }
   ],
   "source": [
    "import re\n",
    "import string\n",
    "\n",
    "import numpy as np\n",
    "import pandas as pd\n",
    "!pip install matplotlib\n",
    "import matplotlib.pyplot as plt\n",
    "%matplotlib inline\n",
    "\n",
    "from sklearn.feature_extraction.text import CountVectorizer\n",
    "from sklearn.feature_extraction.text import TfidfVectorizer\n",
    "from nltk import word_tokenize          \n",
    "from nltk.stem import WordNetLemmatizer\n",
    "from nltk import word_tokenize  \n",
    "from sklearn.metrics import accuracy_score, cohen_kappa_score, f1_score, classification_report "
   ]
  },
  {
   "cell_type": "markdown",
   "id": "fe86300e-feb4-4921-8659-710567ab27a2",
   "metadata": {},
   "source": [
    "Importing the 20newsgroup training data"
   ]
  },
  {
   "cell_type": "code",
   "execution_count": 2,
   "id": "c409a11c-8362-462e-9d66-bba309d91db2",
   "metadata": {},
   "outputs": [],
   "source": [
    "#Loading the data set - training data.\n",
    "from sklearn.datasets import fetch_20newsgroups\n",
    "# mydata_train = fetch_20newsgroups(subset='train', shuffle=True)\n",
    "mydata_train = fetch_20newsgroups(subset='train', shuffle=True, remove = ('headers', 'footers', 'quotes'))"
   ]
  },
  {
   "cell_type": "code",
   "execution_count": 3,
   "id": "2ab344c8-689a-4509-94e9-07ec3b02a9aa",
   "metadata": {},
   "outputs": [
    {
     "name": "stdout",
     "output_type": "stream",
     "text": [
      "Training data size: 11314\n"
     ]
    }
   ],
   "source": [
    "print('Training data size:', len(mydata_train['data']))"
   ]
  },
  {
   "cell_type": "code",
   "execution_count": 4,
   "id": "3a5ba51e-7375-43b9-adc2-fce2170afdc4",
   "metadata": {},
   "outputs": [
    {
     "data": {
      "text/plain": [
       "11314"
      ]
     },
     "execution_count": 4,
     "metadata": {},
     "output_type": "execute_result"
    }
   ],
   "source": [
    "len(mydata_train['target'])"
   ]
  },
  {
   "cell_type": "code",
   "execution_count": 5,
   "id": "5e39f034-b736-4cc2-8cd0-156f3f80121f",
   "metadata": {},
   "outputs": [
    {
     "data": {
      "text/plain": [
       "['alt.atheism',\n",
       " 'comp.graphics',\n",
       " 'comp.os.ms-windows.misc',\n",
       " 'comp.sys.ibm.pc.hardware',\n",
       " 'comp.sys.mac.hardware',\n",
       " 'comp.windows.x',\n",
       " 'misc.forsale',\n",
       " 'rec.autos',\n",
       " 'rec.motorcycles',\n",
       " 'rec.sport.baseball',\n",
       " 'rec.sport.hockey',\n",
       " 'sci.crypt',\n",
       " 'sci.electronics',\n",
       " 'sci.med',\n",
       " 'sci.space',\n",
       " 'soc.religion.christian',\n",
       " 'talk.politics.guns',\n",
       " 'talk.politics.mideast',\n",
       " 'talk.politics.misc',\n",
       " 'talk.religion.misc']"
      ]
     },
     "execution_count": 5,
     "metadata": {},
     "output_type": "execute_result"
    }
   ],
   "source": [
    "# Printing all the categories\n",
    "mydata_train.target_names"
   ]
  },
  {
   "cell_type": "code",
   "execution_count": 6,
   "id": "79a264ea-d1b3-43fd-a749-a77c8c1b3ae2",
   "metadata": {},
   "outputs": [
    {
     "data": {
      "text/plain": [
       "(array([ 0,  1,  2,  3,  4,  5,  6,  7,  8,  9, 10, 11, 12, 13, 14, 15, 16,\n",
       "        17, 18, 19]),\n",
       " array([480, 584, 591, 590, 578, 593, 585, 594, 598, 597, 600, 595, 591,\n",
       "        594, 593, 599, 546, 564, 465, 377], dtype=int64))"
      ]
     },
     "execution_count": 6,
     "metadata": {},
     "output_type": "execute_result"
    }
   ],
   "source": [
    "# Finding frequency of each category\n",
    "targets, frequency = np.unique(mydata_train.target, return_counts=True)\n",
    "targets, frequency "
   ]
  },
  {
   "cell_type": "code",
   "execution_count": 7,
   "id": "01bcfe35-b462-44ec-b7bd-d9156d17b108",
   "metadata": {},
   "outputs": [
    {
     "name": "stdout",
     "output_type": "stream",
     "text": [
      "[('alt.atheism', 480), ('comp.graphics', 584), ('comp.os.ms-windows.misc', 591), ('comp.sys.ibm.pc.hardware', 590), ('comp.sys.mac.hardware', 578), ('comp.windows.x', 593), ('misc.forsale', 585), ('rec.autos', 594), ('rec.motorcycles', 598), ('rec.sport.baseball', 597), ('rec.sport.hockey', 600), ('sci.crypt', 595), ('sci.electronics', 591), ('sci.med', 594), ('sci.space', 593), ('soc.religion.christian', 599), ('talk.politics.guns', 546), ('talk.politics.mideast', 564), ('talk.politics.misc', 465), ('talk.religion.misc', 377)]\n"
     ]
    }
   ],
   "source": [
    "targets_str = np.array(mydata_train.target_names)\n",
    "print(list(zip(targets_str, frequency)))"
   ]
  },
  {
   "cell_type": "code",
   "execution_count": 8,
   "id": "799bffd4-5053-4a0c-b177-acaaa9999d07",
   "metadata": {},
   "outputs": [
    {
     "data": {
      "image/png": "[encoded data removed]",
      "text/plain": [
       "<Figure size 800x400 with 1 Axes>"
      ]
     },
     "metadata": {},
     "output_type": "display_data"
    }
   ],
   "source": [
    "# Training data class distribution\n",
    "fig=plt.figure(figsize=(10, 5), dpi= 80, facecolor='w', edgecolor='k')\n",
    "plt.bar(targets_str,frequency)\n",
    "plt.xticks(rotation=90)\n",
    "plt.title('Class distribution of 20 Newsgroups Training Data')\n",
    "plt.xlabel('News Group')\n",
    "plt.ylabel('Frequency')\n",
    "plt.show()"
   ]
  },
  {
   "cell_type": "markdown",
   "id": "52cb28b6-a3b8-4277-b4fd-a77d81534be4",
   "metadata": {},
   "source": [
    "We can see that there are sufficient samples in each category and that there isn't a lot of imbalance."
   ]
  },
  {
   "cell_type": "markdown",
   "id": "8afd319d-9425-4a7f-9a59-153c0f5ad618",
   "metadata": {},
   "source": [
    "Importing the 20newsgroup test data"
   ]
  },
  {
   "cell_type": "code",
   "execution_count": 9,
   "id": "503ed5f5-2dd6-40b2-9bd1-0a59adeb0d63",
   "metadata": {},
   "outputs": [],
   "source": [
    "# mydata_test = fetch_20newsgroups(subset='test', shuffle=True)\n",
    "mydata_test = fetch_20newsgroups(subset='test', shuffle=True, remove = ('headers', 'footers', 'quotes'))"
   ]
  },
  {
   "cell_type": "code",
   "execution_count": 10,
   "id": "ae302d81-cf3b-4c81-8b0d-753a0ae2dc2e",
   "metadata": {},
   "outputs": [
    {
     "name": "stdout",
     "output_type": "stream",
     "text": [
      "Testing data size: 7532\n"
     ]
    }
   ],
   "source": [
    "print('Testing data size:', len(mydata_test['data']))"
   ]
  },
  {
   "cell_type": "code",
   "execution_count": 14,
   "id": "55c57784-5590-4a21-9dc3-8cda04594c5d",
   "metadata": {},
   "outputs": [
    {
     "name": "stdout",
     "output_type": "stream",
     "text": [
      "[('alt.atheism', 319), ('comp.graphics', 389), ('comp.os.ms-windows.misc', 394), ('comp.sys.ibm.pc.hardware', 392), ('comp.sys.mac.hardware', 385), ('comp.windows.x', 395), ('misc.forsale', 390), ('rec.autos', 396), ('rec.motorcycles', 398), ('rec.sport.baseball', 397), ('rec.sport.hockey', 399), ('sci.crypt', 396), ('sci.electronics', 393), ('sci.med', 396), ('sci.space', 394), ('soc.religion.christian', 398), ('talk.politics.guns', 364), ('talk.politics.mideast', 376), ('talk.politics.misc', 310), ('talk.religion.misc', 251)]\n"
     ]
    }
   ],
   "source": [
    "# Finding frequency of each category\n",
    "targets_test, frequency_test = np.unique(mydata_test.target, return_counts=True)\n",
    "targets_test_str = np.array(mydata_test.target_names)\n",
    "print(list(zip(targets_test_str, frequency_test)))"
   ]
  },
  {
   "cell_type": "code",
   "execution_count": 15,
   "id": "9a3d0f88-3507-486c-b082-efe7f51b5b95",
   "metadata": {},
   "outputs": [
    {
     "data": {
      "image/png": "[encoded data removed]",
      "text/plain": [
       "<Figure size 800x400 with 1 Axes>"
      ]
     },
     "metadata": {},
     "output_type": "display_data"
    }
   ],
   "source": [
    "# Testing data class distribution\n",
    "fig=plt.figure(figsize=(10, 5), dpi= 80, facecolor='w', edgecolor='k')\n",
    "plt.bar(targets_test_str,frequency_test)\n",
    "plt.xticks(rotation=90)\n",
    "plt.title('Class distribution of 20 Newsgroups Test Data')\n",
    "plt.xlabel('News Group')\n",
    "plt.ylabel('Frequency')\n",
    "plt.show()"
   ]
  },
  {
   "cell_type": "markdown",
   "id": "3b5b9c01-8077-44eb-b22f-a83ad78062fc",
   "metadata": {},
   "source": [
    "Data Preparation:"
   ]
  },
  {
   "cell_type": "markdown",
   "id": "90e68d46-a468-4039-82e0-7f9120b2c9fb",
   "metadata": {},
   "source": [
    "We will perform preparation steps such as Tokenization, Convert everything to lowercase, Removing stopwords, Stemming, Lemmatizing, and converting text data to a vector representation"
   ]
  },
  {
   "cell_type": "code",
   "execution_count": 16,
   "id": "c1398a39-01fb-4296-b500-ac235e9a4f96",
   "metadata": {},
   "outputs": [
    {
     "data": {
      "text/html": [
       "<div>\n",
       "<style scoped>\n",
       "    .dataframe tbody tr th:only-of-type {\n",
       "        vertical-align: middle;\n",
       "    }\n",
       "\n",
       "    .dataframe tbody tr th {\n",
       "        vertical-align: top;\n",
       "    }\n",
       "\n",
       "    .dataframe thead th {\n",
       "        text-align: right;\n",
       "    }\n",
       "</style>\n",
       "<table border=\"1\" class=\"dataframe\">\n",
       "  <thead>\n",
       "    <tr style=\"text-align: right;\">\n",
       "      <th></th>\n",
       "      <th>data</th>\n",
       "      <th>target</th>\n",
       "    </tr>\n",
       "  </thead>\n",
       "  <tbody>\n",
       "    <tr>\n",
       "      <th>0</th>\n",
       "      <td>I was wondering if anyone out there could enli...</td>\n",
       "      <td>7</td>\n",
       "    </tr>\n",
       "    <tr>\n",
       "      <th>1</th>\n",
       "      <td>A fair number of brave souls who upgraded thei...</td>\n",
       "      <td>4</td>\n",
       "    </tr>\n",
       "    <tr>\n",
       "      <th>2</th>\n",
       "      <td>well folks, my mac plus finally gave up the gh...</td>\n",
       "      <td>4</td>\n",
       "    </tr>\n",
       "    <tr>\n",
       "      <th>3</th>\n",
       "      <td>\\nDo you have Weitek's address/phone number?  ...</td>\n",
       "      <td>1</td>\n",
       "    </tr>\n",
       "    <tr>\n",
       "      <th>4</th>\n",
       "      <td>From article &lt;C5owCB.n3p@world.std.com&gt;, by to...</td>\n",
       "      <td>14</td>\n",
       "    </tr>\n",
       "  </tbody>\n",
       "</table>\n",
       "</div>"
      ],
      "text/plain": [
       "                                                data  target\n",
       "0  I was wondering if anyone out there could enli...       7\n",
       "1  A fair number of brave souls who upgraded thei...       4\n",
       "2  well folks, my mac plus finally gave up the gh...       4\n",
       "3  \\nDo you have Weitek's address/phone number?  ...       1\n",
       "4  From article <C5owCB.n3p@world.std.com>, by to...      14"
      ]
     },
     "execution_count": 16,
     "metadata": {},
     "output_type": "execute_result"
    }
   ],
   "source": [
    "mydata_train_df = pd.DataFrame({'data': mydata_train.data, 'target': mydata_train.target})\n",
    "mydata_train_df.head()"
   ]
  },
  {
   "cell_type": "code",
   "execution_count": 17,
   "id": "eb4f626b-2937-42c9-926c-544504854c82",
   "metadata": {},
   "outputs": [
    {
     "data": {
      "text/html": [
       "<div>\n",
       "<style scoped>\n",
       "    .dataframe tbody tr th:only-of-type {\n",
       "        vertical-align: middle;\n",
       "    }\n",
       "\n",
       "    .dataframe tbody tr th {\n",
       "        vertical-align: top;\n",
       "    }\n",
       "\n",
       "    .dataframe thead th {\n",
       "        text-align: right;\n",
       "    }\n",
       "</style>\n",
       "<table border=\"1\" class=\"dataframe\">\n",
       "  <thead>\n",
       "    <tr style=\"text-align: right;\">\n",
       "      <th></th>\n",
       "      <th>data</th>\n",
       "      <th>target</th>\n",
       "    </tr>\n",
       "  </thead>\n",
       "  <tbody>\n",
       "    <tr>\n",
       "      <th>0</th>\n",
       "      <td>i was wondering if anyone out there could enli...</td>\n",
       "      <td>7</td>\n",
       "    </tr>\n",
       "    <tr>\n",
       "      <th>1</th>\n",
       "      <td>a fair number of brave souls who upgraded thei...</td>\n",
       "      <td>4</td>\n",
       "    </tr>\n",
       "    <tr>\n",
       "      <th>2</th>\n",
       "      <td>well folks  my mac plus finally gave up the gh...</td>\n",
       "      <td>4</td>\n",
       "    </tr>\n",
       "    <tr>\n",
       "      <th>3</th>\n",
       "      <td>\\ndo you have weitek s address phone number   ...</td>\n",
       "      <td>1</td>\n",
       "    </tr>\n",
       "    <tr>\n",
       "      <th>4</th>\n",
       "      <td>from article      world std com   by tombaker ...</td>\n",
       "      <td>14</td>\n",
       "    </tr>\n",
       "  </tbody>\n",
       "</table>\n",
       "</div>"
      ],
      "text/plain": [
       "                                                data  target\n",
       "0  i was wondering if anyone out there could enli...       7\n",
       "1  a fair number of brave souls who upgraded thei...       4\n",
       "2  well folks  my mac plus finally gave up the gh...       4\n",
       "3  \\ndo you have weitek s address phone number   ...       1\n",
       "4  from article      world std com   by tombaker ...      14"
      ]
     },
     "execution_count": 17,
     "metadata": {},
     "output_type": "execute_result"
    }
   ],
   "source": [
    "# Text preprocessing steps - remove numbers, captial letters and punctuation\n",
    "alphanumeric = lambda x: re.sub(r\"\"\"\\w*\\d\\w*\"\"\", ' ', x)\n",
    "punc_lower = lambda x: re.sub('[%s]' % re.escape(string.punctuation), ' ', x.lower())\n",
    "\n",
    "mydata_train_df['data'] = mydata_train_df.data.map(alphanumeric).map(punc_lower)\n",
    "mydata_train_df.head()"
   ]
  },
  {
   "cell_type": "code",
   "execution_count": 18,
   "id": "cab48b98-b466-4768-8853-29117e2f50d7",
   "metadata": {},
   "outputs": [
    {
     "data": {
      "text/html": [
       "<div>\n",
       "<style scoped>\n",
       "    .dataframe tbody tr th:only-of-type {\n",
       "        vertical-align: middle;\n",
       "    }\n",
       "\n",
       "    .dataframe tbody tr th {\n",
       "        vertical-align: top;\n",
       "    }\n",
       "\n",
       "    .dataframe thead th {\n",
       "        text-align: right;\n",
       "    }\n",
       "</style>\n",
       "<table border=\"1\" class=\"dataframe\">\n",
       "  <thead>\n",
       "    <tr style=\"text-align: right;\">\n",
       "      <th></th>\n",
       "      <th>data</th>\n",
       "      <th>target</th>\n",
       "    </tr>\n",
       "  </thead>\n",
       "  <tbody>\n",
       "    <tr>\n",
       "      <th>0</th>\n",
       "      <td>I am a little confused on all of the models of...</td>\n",
       "      <td>7</td>\n",
       "    </tr>\n",
       "    <tr>\n",
       "      <th>1</th>\n",
       "      <td>I'm not familiar at all with the format of the...</td>\n",
       "      <td>5</td>\n",
       "    </tr>\n",
       "    <tr>\n",
       "      <th>2</th>\n",
       "      <td>\\nIn a word, yes.\\n</td>\n",
       "      <td>0</td>\n",
       "    </tr>\n",
       "    <tr>\n",
       "      <th>3</th>\n",
       "      <td>\\nThey were attacking the Iraqis to drive them...</td>\n",
       "      <td>17</td>\n",
       "    </tr>\n",
       "    <tr>\n",
       "      <th>4</th>\n",
       "      <td>\\nI've just spent two solid months arguing tha...</td>\n",
       "      <td>19</td>\n",
       "    </tr>\n",
       "  </tbody>\n",
       "</table>\n",
       "</div>"
      ],
      "text/plain": [
       "                                                data  target\n",
       "0  I am a little confused on all of the models of...       7\n",
       "1  I'm not familiar at all with the format of the...       5\n",
       "2                                \\nIn a word, yes.\\n       0\n",
       "3  \\nThey were attacking the Iraqis to drive them...      17\n",
       "4  \\nI've just spent two solid months arguing tha...      19"
      ]
     },
     "execution_count": 18,
     "metadata": {},
     "output_type": "execute_result"
    }
   ],
   "source": [
    "# Preparing test data\n",
    "mydata_test_df = pd.DataFrame({'data': mydata_test.data, 'target': mydata_test.target})\n",
    "mydata_test_df.head()"
   ]
  },
  {
   "cell_type": "code",
   "execution_count": 19,
   "id": "c215bc80-2c4b-4513-af34-f0e738375c1e",
   "metadata": {},
   "outputs": [
    {
     "data": {
      "text/html": [
       "<div>\n",
       "<style scoped>\n",
       "    .dataframe tbody tr th:only-of-type {\n",
       "        vertical-align: middle;\n",
       "    }\n",
       "\n",
       "    .dataframe tbody tr th {\n",
       "        vertical-align: top;\n",
       "    }\n",
       "\n",
       "    .dataframe thead th {\n",
       "        text-align: right;\n",
       "    }\n",
       "</style>\n",
       "<table border=\"1\" class=\"dataframe\">\n",
       "  <thead>\n",
       "    <tr style=\"text-align: right;\">\n",
       "      <th></th>\n",
       "      <th>data</th>\n",
       "      <th>target</th>\n",
       "    </tr>\n",
       "  </thead>\n",
       "  <tbody>\n",
       "    <tr>\n",
       "      <th>0</th>\n",
       "      <td>i am a little confused on all of the models of...</td>\n",
       "      <td>7</td>\n",
       "    </tr>\n",
       "    <tr>\n",
       "      <th>1</th>\n",
       "      <td>i m not familiar at all with the format of the...</td>\n",
       "      <td>5</td>\n",
       "    </tr>\n",
       "    <tr>\n",
       "      <th>2</th>\n",
       "      <td>\\nin a word  yes \\n</td>\n",
       "      <td>0</td>\n",
       "    </tr>\n",
       "    <tr>\n",
       "      <th>3</th>\n",
       "      <td>\\nthey were attacking the iraqis to drive them...</td>\n",
       "      <td>17</td>\n",
       "    </tr>\n",
       "    <tr>\n",
       "      <th>4</th>\n",
       "      <td>\\ni ve just spent two solid months arguing tha...</td>\n",
       "      <td>19</td>\n",
       "    </tr>\n",
       "  </tbody>\n",
       "</table>\n",
       "</div>"
      ],
      "text/plain": [
       "                                                data  target\n",
       "0  i am a little confused on all of the models of...       7\n",
       "1  i m not familiar at all with the format of the...       5\n",
       "2                                \\nin a word  yes \\n       0\n",
       "3  \\nthey were attacking the iraqis to drive them...      17\n",
       "4  \\ni ve just spent two solid months arguing tha...      19"
      ]
     },
     "execution_count": 19,
     "metadata": {},
     "output_type": "execute_result"
    }
   ],
   "source": [
    "# Text preprocessing steps - remove numbers, captial letters and punctuation\n",
    "alphanumeric = lambda x: re.sub(r\"\"\"\\w*\\d\\w*\"\"\", ' ', x)\n",
    "punc_lower = lambda x: re.sub('[%s]' % re.escape(string.punctuation), ' ', x.lower())\n",
    "\n",
    "mydata_test_df['data'] = mydata_test_df.data.map(alphanumeric).map(punc_lower)\n",
    "mydata_test_df.head()"
   ]
  },
  {
   "cell_type": "markdown",
   "id": "4dae02a7-bc38-41da-a077-c0f8d89c2933",
   "metadata": {},
   "source": [
    "Count Vectorizer"
   ]
  },
  {
   "cell_type": "code",
   "execution_count": 20,
   "id": "4a745e6b-80ef-4920-ae4f-ed34e8a3da63",
   "metadata": {},
   "outputs": [
    {
     "name": "stdout",
     "output_type": "stream",
     "text": [
      "(11314, 67822)\n",
      "<class 'scipy.sparse._csr.csr_matrix'>\n"
     ]
    }
   ],
   "source": [
    "count_vect = CountVectorizer(stop_words='english')\n",
    "\n",
    "X_train_cv = count_vect.fit_transform(mydata_train_df.data)  # fit_transform learns the vocab and one-hot encodes\n",
    "y_train = mydata_train_df.target\n",
    "X_test_cv = count_vect.transform(mydata_test_df.data) # transform uses the same vocab and one-hot encodes\n",
    "y_test = mydata_test_df.target\n",
    "\n",
    "print(X_train_cv.shape)\n",
    "print(type(X_train_cv))"
   ]
  },
  {
   "cell_type": "markdown",
   "id": "1e2ed489-04fe-40f9-ae42-53fd57a1cf65",
   "metadata": {},
   "source": [
    "TF-IDF Vectorizer"
   ]
  },
  {
   "cell_type": "code",
   "execution_count": 27,
   "id": "578b833f-b8dd-4830-b77b-0981f37682b2",
   "metadata": {},
   "outputs": [
    {
     "name": "stdout",
     "output_type": "stream",
     "text": [
      "(11314, 67822)\n",
      "<class 'scipy.sparse._csr.csr_matrix'>\n"
     ]
    }
   ],
   "source": [
    "# Creating a document-term matrix using TF-IDF\n",
    "\n",
    "tfidfV = TfidfVectorizer(stop_words='english') \n",
    "# tfidfV = TfidfVectorizer(ngram_range=(1, 2), binary =True, stop_words='english') \n",
    "\n",
    "X_train_tfidfV = tfidfV.fit_transform(mydata_train_df.data) # fit_transform learns the vocab and one-hot encodes \n",
    "X_test_tfidfV = tfidfV.transform(mydata_test_df.data) # transform uses the same vocab and one-hot encodes \n",
    "\n",
    "# print the dimensions of the training set (text messages, terms) \n",
    "print(X_train_tfidfV.shape)\n",
    "print(type(X_train_tfidfV))"
   ]
  },
  {
   "cell_type": "markdown",
   "id": "cacfdeda-884c-4e24-8e7d-fee65ce1ed37",
   "metadata": {},
   "source": [
    "Classification Model"
   ]
  },
  {
   "cell_type": "code",
   "execution_count": 30,
   "id": "2bd8244e-a145-41d8-96be-26bd8fab4986",
   "metadata": {},
   "outputs": [
    {
     "name": "stdout",
     "output_type": "stream",
     "text": [
      "CPU times: total: 78.1 ms\n",
      "Wall time: 59.1 ms\n"
     ]
    },
    {
     "data": {
      "text/html": [
       "<style>#sk-container-id-3 {color: black;background-color: white;}#sk-container-id-3 pre{padding: 0;}#sk-container-id-3 div.sk-toggleable {background-color: white;}#sk-container-id-3 label.sk-toggleable__label {cursor: pointer;display: block;width: 100%;margin-bottom: 0;padding: 0.3em;box-sizing: border-box;text-align: center;}#sk-container-id-3 label.sk-toggleable__label-arrow:before {content: \"▸\";float: left;margin-right: 0.25em;color: #696969;}#sk-container-id-3 label.sk-toggleable__label-arrow:hover:before {color: black;}#sk-container-id-3 div.sk-estimator:hover label.sk-toggleable__label-arrow:before {color: black;}#sk-container-id-3 div.sk-toggleable__content {max-height: 0;max-width: 0;overflow: hidden;text-align: left;background-color: #f0f8ff;}#sk-container-id-3 div.sk-toggleable__content pre {margin: 0.2em;color: black;border-radius: 0.25em;background-color: #f0f8ff;}#sk-container-id-3 input.sk-toggleable__control:checked~div.sk-toggleable__content {max-height: 200px;max-width: 100%;overflow: auto;}#sk-container-id-3 input.sk-toggleable__control:checked~label.sk-toggleable__label-arrow:before {content: \"▾\";}#sk-container-id-3 div.sk-estimator input.sk-toggleable__control:checked~label.sk-toggleable__label {background-color: #d4ebff;}#sk-container-id-3 div.sk-label input.sk-toggleable__control:checked~label.sk-toggleable__label {background-color: #d4ebff;}#sk-container-id-3 input.sk-hidden--visually {border: 0;clip: rect(1px 1px 1px 1px);clip: rect(1px, 1px, 1px, 1px);height: 1px;margin: -1px;overflow: hidden;padding: 0;position: absolute;width: 1px;}#sk-container-id-3 div.sk-estimator {font-family: monospace;background-color: #f0f8ff;border: 1px dotted black;border-radius: 0.25em;box-sizing: border-box;margin-bottom: 0.5em;}#sk-container-id-3 div.sk-estimator:hover {background-color: #d4ebff;}#sk-container-id-3 div.sk-parallel-item::after {content: \"\";width: 100%;border-bottom: 1px solid gray;flex-grow: 1;}#sk-container-id-3 div.sk-label:hover label.sk-toggleable__label {background-color: #d4ebff;}#sk-container-id-3 div.sk-serial::before {content: \"\";position: absolute;border-left: 1px solid gray;box-sizing: border-box;top: 0;bottom: 0;left: 50%;z-index: 0;}#sk-container-id-3 div.sk-serial {display: flex;flex-direction: column;align-items: center;background-color: white;padding-right: 0.2em;padding-left: 0.2em;position: relative;}#sk-container-id-3 div.sk-item {position: relative;z-index: 1;}#sk-container-id-3 div.sk-parallel {display: flex;align-items: stretch;justify-content: center;background-color: white;position: relative;}#sk-container-id-3 div.sk-item::before, #sk-container-id-3 div.sk-parallel-item::before {content: \"\";position: absolute;border-left: 1px solid gray;box-sizing: border-box;top: 0;bottom: 0;left: 50%;z-index: -1;}#sk-container-id-3 div.sk-parallel-item {display: flex;flex-direction: column;z-index: 1;position: relative;background-color: white;}#sk-container-id-3 div.sk-parallel-item:first-child::after {align-self: flex-end;width: 50%;}#sk-container-id-3 div.sk-parallel-item:last-child::after {align-self: flex-start;width: 50%;}#sk-container-id-3 div.sk-parallel-item:only-child::after {width: 0;}#sk-container-id-3 div.sk-dashed-wrapped {border: 1px dashed gray;margin: 0 0.4em 0.5em 0.4em;box-sizing: border-box;padding-bottom: 0.4em;background-color: white;}#sk-container-id-3 div.sk-label label {font-family: monospace;font-weight: bold;display: inline-block;line-height: 1.2em;}#sk-container-id-3 div.sk-label-container {text-align: center;}#sk-container-id-3 div.sk-container {/* jupyter's `normalize.less` sets `[hidden] { display: none; }` but bootstrap.min.css set `[hidden] { display: none !important; }` so we also need the `!important` here to be able to override the default hidden behavior on the sphinx rendered scikit-learn.org. See: https://github.com/scikit-learn/scikit-learn/issues/21755 */display: inline-block !important;position: relative;}#sk-container-id-3 div.sk-text-repr-fallback {display: none;}</style><div id=\"sk-container-id-3\" class=\"sk-top-container\"><div class=\"sk-text-repr-fallback\"><pre>MultinomialNB()</pre><b>In a Jupyter environment, please rerun this cell to show the HTML representation or trust the notebook. <br />On GitHub, the HTML representation is unable to render, please try loading this page with nbviewer.org.</b></div><div class=\"sk-container\" hidden><div class=\"sk-item\"><div class=\"sk-estimator sk-toggleable\"><input class=\"sk-toggleable__control sk-hidden--visually\" id=\"sk-estimator-id-3\" type=\"checkbox\" checked><label for=\"sk-estimator-id-3\" class=\"sk-toggleable__label sk-toggleable__label-arrow\">MultinomialNB</label><div class=\"sk-toggleable__content\"><pre>MultinomialNB()</pre></div></div></div></div></div>"
      ],
      "text/plain": [
       "MultinomialNB()"
      ]
     },
     "execution_count": 30,
     "metadata": {},
     "output_type": "execute_result"
    }
   ],
   "source": [
    "%%time\n",
    "# Use a Naive Bayes model \n",
    "from sklearn.naive_bayes import MultinomialNB \n",
    "\n",
    "mnb = MultinomialNB() \n",
    "\n",
    "# Train the model \n",
    "mnb.fit(X_train_cv, y_train)"
   ]
  },
  {
   "cell_type": "code",
   "execution_count": 31,
   "id": "8b3a0250-3150-48ee-834e-f1c448534d3b",
   "metadata": {},
   "outputs": [
    {
     "data": {
      "text/plain": [
       "array([ 7,  1, 15, ..., 15,  3, 15])"
      ]
     },
     "execution_count": 31,
     "metadata": {},
     "output_type": "execute_result"
    }
   ],
   "source": [
    "# Take the model that was trained on the X_train_cv data and apply it to the X_test_cv data \n",
    "y_pred_cv_mnb = mnb.predict(X_test_cv) \n",
    "y_pred_cv_mnb # The output is all of the predictions"
   ]
  },
  {
   "cell_type": "code",
   "execution_count": 32,
   "id": "e501bd7d-eed9-4662-8e4a-049a4c907b44",
   "metadata": {},
   "outputs": [
    {
     "name": "stdout",
     "output_type": "stream",
     "text": [
      "0.6399362719065321\n",
      "              precision    recall  f1-score   support\n",
      "\n",
      "           0       0.60      0.36      0.45       319\n",
      "           1       0.57      0.70      0.63       389\n",
      "           2       0.67      0.01      0.02       394\n",
      "           3       0.50      0.71      0.58       392\n",
      "           4       0.72      0.58      0.64       385\n",
      "           5       0.58      0.80      0.67       395\n",
      "           6       0.85      0.66      0.75       390\n",
      "           7       0.82      0.70      0.76       396\n",
      "           8       0.90      0.65      0.75       398\n",
      "           9       0.93      0.76      0.84       397\n",
      "          10       0.58      0.92      0.71       399\n",
      "          11       0.58      0.78      0.66       396\n",
      "          12       0.67      0.49      0.57       393\n",
      "          13       0.83      0.79      0.81       396\n",
      "          14       0.76      0.75      0.76       394\n",
      "          15       0.48      0.90      0.63       398\n",
      "          16       0.55      0.65      0.60       364\n",
      "          17       0.66      0.78      0.72       376\n",
      "          18       0.44      0.44      0.44       310\n",
      "          19       0.44      0.06      0.11       251\n",
      "\n",
      "    accuracy                           0.64      7532\n",
      "   macro avg       0.66      0.62      0.60      7532\n",
      "weighted avg       0.66      0.64      0.62      7532\n",
      "\n"
     ]
    }
   ],
   "source": [
    "from sklearn.metrics import classification_report, accuracy_score\n",
    "\n",
    "y_test = mydata_test_df.target\n",
    "print(accuracy_score(y_test, y_pred_cv_mnb))\n",
    "print(classification_report(y_test, y_pred_cv_mnb))"
   ]
  },
  {
   "cell_type": "code",
   "execution_count": 21,
   "id": "04069209-3e5c-46b0-88d5-7e352af1f93b",
   "metadata": {},
   "outputs": [
    {
     "name": "stdout",
     "output_type": "stream",
     "text": [
      "Requirement already satisfied: ktrain in c:\\users\\21213\\appdata\\local\\programs\\python\\python38\\lib\\site-packages (0.33.0)\n",
      "Requirement already satisfied: scikit-learn in c:\\users\\21213\\appdata\\local\\programs\\python\\python38\\lib\\site-packages (from ktrain) (1.2.0)\n",
      "Requirement already satisfied: transformers>=4.17.0 in c:\\users\\21213\\appdata\\local\\programs\\python\\python38\\lib\\site-packages (from ktrain) (4.26.0)\n",
      "Requirement already satisfied: pandas>=1.0.1 in c:\\users\\21213\\appdata\\local\\programs\\python\\python38\\lib\\site-packages (from ktrain) (1.5.2)\n",
      "Requirement already satisfied: sentencepiece in c:\\users\\21213\\appdata\\local\\programs\\python\\python38\\lib\\site-packages (from ktrain) (0.1.97)\n",
      "Requirement already satisfied: keras-bert>=0.86.0 in c:\\users\\21213\\appdata\\local\\programs\\python\\python38\\lib\\site-packages (from ktrain) (0.89.0)\n",
      "Requirement already satisfied: whoosh in c:\\users\\21213\\appdata\\local\\programs\\python\\python38\\lib\\site-packages (from ktrain) (2.7.4)\n",
      "Requirement already satisfied: joblib in c:\\users\\21213\\appdata\\local\\programs\\python\\python38\\lib\\site-packages (from ktrain) (1.2.0)\n",
      "Requirement already satisfied: jieba in c:\\users\\21213\\appdata\\local\\programs\\python\\python38\\lib\\site-packages (from ktrain) (0.42.1)\n",
      "Requirement already satisfied: cchardet in c:\\users\\21213\\appdata\\local\\programs\\python\\python38\\lib\\site-packages (from ktrain) (2.1.7)\n",
      "Requirement already satisfied: syntok>1.3.3 in c:\\users\\21213\\appdata\\local\\programs\\python\\python38\\lib\\site-packages (from ktrain) (1.4.4)\n",
      "Requirement already satisfied: matplotlib>=3.0.0 in c:\\users\\21213\\appdata\\local\\programs\\python\\python38\\lib\\site-packages (from ktrain) (3.6.3)\n",
      "Requirement already satisfied: fastprogress>=0.1.21 in c:\\users\\21213\\appdata\\local\\programs\\python\\python38\\lib\\site-packages (from ktrain) (1.0.3)\n",
      "Requirement already satisfied: packaging in c:\\users\\21213\\appdata\\local\\programs\\python\\python38\\lib\\site-packages (from ktrain) (22.0)\n",
      "Requirement already satisfied: chardet in c:\\users\\21213\\appdata\\local\\programs\\python\\python38\\lib\\site-packages (from ktrain) (5.1.0)\n",
      "Requirement already satisfied: requests in c:\\users\\21213\\appdata\\local\\programs\\python\\python38\\lib\\site-packages (from ktrain) (2.28.1)\n",
      "Requirement already satisfied: langdetect in c:\\users\\21213\\appdata\\local\\programs\\python\\python38\\lib\\site-packages (from ktrain) (1.0.9)\n",
      "Requirement already satisfied: keras-transformer==0.40.0 in c:\\users\\21213\\appdata\\local\\programs\\python\\python38\\lib\\site-packages (from keras-bert>=0.86.0->ktrain) (0.40.0)\n",
      "Requirement already satisfied: numpy in c:\\users\\21213\\appdata\\local\\programs\\python\\python38\\lib\\site-packages (from keras-bert>=0.86.0->ktrain) (1.23.5)\n",
      "Requirement already satisfied: keras-multi-head==0.29.0 in c:\\users\\21213\\appdata\\local\\programs\\python\\python38\\lib\\site-packages (from keras-transformer==0.40.0->keras-bert>=0.86.0->ktrain) (0.29.0)\n",
      "Requirement already satisfied: keras-embed-sim==0.10.0 in c:\\users\\21213\\appdata\\local\\programs\\python\\python38\\lib\\site-packages (from keras-transformer==0.40.0->keras-bert>=0.86.0->ktrain) (0.10.0)\n",
      "Requirement already satisfied: keras-pos-embd==0.13.0 in c:\\users\\21213\\appdata\\local\\programs\\python\\python38\\lib\\site-packages (from keras-transformer==0.40.0->keras-bert>=0.86.0->ktrain) (0.13.0)\n",
      "Requirement already satisfied: keras-position-wise-feed-forward==0.8.0 in c:\\users\\21213\\appdata\\local\\programs\\python\\python38\\lib\\site-packages (from keras-transformer==0.40.0->keras-bert>=0.86.0->ktrain) (0.8.0)\n",
      "Requirement already satisfied: keras-layer-normalization==0.16.0 in c:\\users\\21213\\appdata\\local\\programs\\python\\python38\\lib\\site-packages (from keras-transformer==0.40.0->keras-bert>=0.86.0->ktrain) (0.16.0)\n",
      "Requirement already satisfied: keras-self-attention==0.51.0 in c:\\users\\21213\\appdata\\local\\programs\\python\\python38\\lib\\site-packages (from keras-multi-head==0.29.0->keras-transformer==0.40.0->keras-bert>=0.86.0->ktrain) (0.51.0)\n",
      "Requirement already satisfied: cycler>=0.10 in c:\\users\\21213\\appdata\\local\\programs\\python\\python38\\lib\\site-packages (from matplotlib>=3.0.0->ktrain) (0.11.0)\n",
      "Requirement already satisfied: contourpy>=1.0.1 in c:\\users\\21213\\appdata\\local\\programs\\python\\python38\\lib\\site-packages (from matplotlib>=3.0.0->ktrain) (1.0.7)\n",
      "Requirement already satisfied: pillow>=6.2.0 in c:\\users\\21213\\appdata\\local\\programs\\python\\python38\\lib\\site-packages (from matplotlib>=3.0.0->ktrain) (9.4.0)\n",
      "Requirement already satisfied: python-dateutil>=2.7 in c:\\users\\21213\\appdata\\local\\programs\\python\\python38\\lib\\site-packages (from matplotlib>=3.0.0->ktrain) (2.8.2)\n",
      "Requirement already satisfied: kiwisolver>=1.0.1 in c:\\users\\21213\\appdata\\local\\programs\\python\\python38\\lib\\site-packages (from matplotlib>=3.0.0->ktrain) (1.4.4)\n",
      "Requirement already satisfied: pyparsing>=2.2.1 in c:\\users\\21213\\appdata\\local\\programs\\python\\python38\\lib\\site-packages (from matplotlib>=3.0.0->ktrain) (3.0.9)\n",
      "Requirement already satisfied: fonttools>=4.22.0 in c:\\users\\21213\\appdata\\local\\programs\\python\\python38\\lib\\site-packages (from matplotlib>=3.0.0->ktrain) (4.38.0)\n",
      "Requirement already satisfied: pytz>=2020.1 in c:\\users\\21213\\appdata\\local\\programs\\python\\python38\\lib\\site-packages (from pandas>=1.0.1->ktrain) (2022.6)\n",
      "Requirement already satisfied: regex>2016 in c:\\users\\21213\\appdata\\local\\programs\\python\\python38\\lib\\site-packages (from syntok>1.3.3->ktrain) (2022.10.31)\n",
      "Requirement already satisfied: huggingface-hub<1.0,>=0.11.0 in c:\\users\\21213\\appdata\\local\\programs\\python\\python38\\lib\\site-packages (from transformers>=4.17.0->ktrain) (0.12.0)\n",
      "Requirement already satisfied: filelock in c:\\users\\21213\\appdata\\local\\programs\\python\\python38\\lib\\site-packages (from transformers>=4.17.0->ktrain) (3.9.0)\n",
      "Requirement already satisfied: pyyaml>=5.1 in c:\\users\\21213\\appdata\\local\\programs\\python\\python38\\lib\\site-packages (from transformers>=4.17.0->ktrain) (6.0)\n",
      "Requirement already satisfied: tokenizers!=0.11.3,<0.14,>=0.11.1 in c:\\users\\21213\\appdata\\local\\programs\\python\\python38\\lib\\site-packages (from transformers>=4.17.0->ktrain) (0.13.2)\n",
      "Requirement already satisfied: tqdm>=4.27 in c:\\users\\21213\\appdata\\local\\programs\\python\\python38\\lib\\site-packages (from transformers>=4.17.0->ktrain) (4.64.1)\n",
      "Requirement already satisfied: six in c:\\users\\21213\\appdata\\local\\programs\\python\\python38\\lib\\site-packages (from langdetect->ktrain) (1.16.0)\n",
      "Requirement already satisfied: certifi>=2017.4.17 in c:\\users\\21213\\appdata\\local\\programs\\python\\python38\\lib\\site-packages (from requests->ktrain) (2022.12.7)\n",
      "Requirement already satisfied: urllib3<1.27,>=1.21.1 in c:\\users\\21213\\appdata\\local\\programs\\python\\python38\\lib\\site-packages (from requests->ktrain) (1.26.13)\n",
      "Requirement already satisfied: charset-normalizer<3,>=2 in c:\\users\\21213\\appdata\\local\\programs\\python\\python38\\lib\\site-packages (from requests->ktrain) (2.1.1)\n",
      "Requirement already satisfied: idna<4,>=2.5 in c:\\users\\21213\\appdata\\local\\programs\\python\\python38\\lib\\site-packages (from requests->ktrain) (3.4)\n",
      "Requirement already satisfied: scipy>=1.3.2 in c:\\users\\21213\\appdata\\local\\programs\\python\\python38\\lib\\site-packages (from scikit-learn->ktrain) (1.9.3)\n",
      "Requirement already satisfied: threadpoolctl>=2.0.0 in c:\\users\\21213\\appdata\\local\\programs\\python\\python38\\lib\\site-packages (from scikit-learn->ktrain) (3.1.0)\n",
      "Requirement already satisfied: typing-extensions>=3.7.4.3 in c:\\users\\21213\\appdata\\local\\programs\\python\\python38\\lib\\site-packages (from huggingface-hub<1.0,>=0.11.0->transformers>=4.17.0->ktrain) (4.4.0)\n",
      "Requirement already satisfied: colorama in c:\\users\\21213\\appdata\\local\\programs\\python\\python38\\lib\\site-packages (from tqdm>=4.27->transformers>=4.17.0->ktrain) (0.4.6)\n"
     ]
    },
    {
     "name": "stderr",
     "output_type": "stream",
     "text": [
      "\n",
      "[notice] A new release of pip available: 22.3.1 -> 23.0\n",
      "[notice] To update, run: python.exe -m pip install --upgrade pip\n"
     ]
    }
   ],
   "source": [
    "!pip install ktrain"
   ]
  },
  {
   "cell_type": "code",
   "execution_count": 22,
   "id": "89c3b30b-3049-4496-bf40-60afcbbecaa8",
   "metadata": {},
   "outputs": [],
   "source": [
    "%reload_ext autoreload\n",
    "%autoreload 2 \n",
    "import os \n",
    "os.environ[\"CUDA_DEVICE_ORDER'\"]=\"PCI_BUS_ID\";\n",
    "os.environ[\"CUDA_VISIBLE_DEVICES\"]=\"0\";"
   ]
  },
  {
   "cell_type": "code",
   "execution_count": 23,
   "id": "1cab650a-55ed-4bcd-a65d-0c50d5d8b329",
   "metadata": {},
   "outputs": [
    {
     "name": "stdout",
     "output_type": "stream",
     "text": [
      "Requirement already satisfied: tensorflow in c:\\users\\21213\\appdata\\local\\programs\\python\\python38\\lib\\site-packages (2.11.0)\n",
      "Requirement already satisfied: tensorflow-intel==2.11.0 in c:\\users\\21213\\appdata\\local\\programs\\python\\python38\\lib\\site-packages (from tensorflow) (2.11.0)\n",
      "Requirement already satisfied: h5py>=2.9.0 in c:\\users\\21213\\appdata\\local\\programs\\python\\python38\\lib\\site-packages (from tensorflow-intel==2.11.0->tensorflow) (3.8.0)\n",
      "Requirement already satisfied: gast<=0.4.0,>=0.2.1 in c:\\users\\21213\\appdata\\local\\programs\\python\\python38\\lib\\site-packages (from tensorflow-intel==2.11.0->tensorflow) (0.4.0)\n",
      "Requirement already satisfied: protobuf<3.20,>=3.9.2 in c:\\users\\21213\\appdata\\local\\programs\\python\\python38\\lib\\site-packages (from tensorflow-intel==2.11.0->tensorflow) (3.19.6)\n",
      "Requirement already satisfied: packaging in c:\\users\\21213\\appdata\\local\\programs\\python\\python38\\lib\\site-packages (from tensorflow-intel==2.11.0->tensorflow) (22.0)\n",
      "Requirement already satisfied: typing-extensions>=3.6.6 in c:\\users\\21213\\appdata\\local\\programs\\python\\python38\\lib\\site-packages (from tensorflow-intel==2.11.0->tensorflow) (4.4.0)\n",
      "Requirement already satisfied: numpy>=1.20 in c:\\users\\21213\\appdata\\local\\programs\\python\\python38\\lib\\site-packages (from tensorflow-intel==2.11.0->tensorflow) (1.23.5)\n",
      "Requirement already satisfied: absl-py>=1.0.0 in c:\\users\\21213\\appdata\\local\\programs\\python\\python38\\lib\\site-packages (from tensorflow-intel==2.11.0->tensorflow) (1.4.0)\n",
      "Requirement already satisfied: wrapt>=1.11.0 in c:\\users\\21213\\appdata\\local\\programs\\python\\python38\\lib\\site-packages (from tensorflow-intel==2.11.0->tensorflow) (1.14.1)\n",
      "Requirement already satisfied: six>=1.12.0 in c:\\users\\21213\\appdata\\local\\programs\\python\\python38\\lib\\site-packages (from tensorflow-intel==2.11.0->tensorflow) (1.16.0)\n",
      "Requirement already satisfied: termcolor>=1.1.0 in c:\\users\\21213\\appdata\\local\\programs\\python\\python38\\lib\\site-packages (from tensorflow-intel==2.11.0->tensorflow) (2.2.0)\n",
      "Requirement already satisfied: astunparse>=1.6.0 in c:\\users\\21213\\appdata\\local\\programs\\python\\python38\\lib\\site-packages (from tensorflow-intel==2.11.0->tensorflow) (1.6.3)\n",
      "Requirement already satisfied: libclang>=13.0.0 in c:\\users\\21213\\appdata\\local\\programs\\python\\python38\\lib\\site-packages (from tensorflow-intel==2.11.0->tensorflow) (15.0.6.1)\n",
      "Requirement already satisfied: google-pasta>=0.1.1 in c:\\users\\21213\\appdata\\local\\programs\\python\\python38\\lib\\site-packages (from tensorflow-intel==2.11.0->tensorflow) (0.2.0)\n",
      "Requirement already satisfied: keras<2.12,>=2.11.0 in c:\\users\\21213\\appdata\\local\\programs\\python\\python38\\lib\\site-packages (from tensorflow-intel==2.11.0->tensorflow) (2.11.0)\n",
      "Requirement already satisfied: tensorflow-io-gcs-filesystem>=0.23.1 in c:\\users\\21213\\appdata\\local\\programs\\python\\python38\\lib\\site-packages (from tensorflow-intel==2.11.0->tensorflow) (0.30.0)\n",
      "Requirement already satisfied: tensorboard<2.12,>=2.11 in c:\\users\\21213\\appdata\\local\\programs\\python\\python38\\lib\\site-packages (from tensorflow-intel==2.11.0->tensorflow) (2.11.2)\n",
      "Requirement already satisfied: setuptools in c:\\users\\21213\\appdata\\local\\programs\\python\\python38\\lib\\site-packages (from tensorflow-intel==2.11.0->tensorflow) (41.2.0)\n",
      "Requirement already satisfied: flatbuffers>=2.0 in c:\\users\\21213\\appdata\\local\\programs\\python\\python38\\lib\\site-packages (from tensorflow-intel==2.11.0->tensorflow) (23.1.21)\n",
      "Requirement already satisfied: tensorflow-estimator<2.12,>=2.11.0 in c:\\users\\21213\\appdata\\local\\programs\\python\\python38\\lib\\site-packages (from tensorflow-intel==2.11.0->tensorflow) (2.11.0)\n",
      "Requirement already satisfied: opt-einsum>=2.3.2 in c:\\users\\21213\\appdata\\local\\programs\\python\\python38\\lib\\site-packages (from tensorflow-intel==2.11.0->tensorflow) (3.3.0)\n",
      "Requirement already satisfied: grpcio<2.0,>=1.24.3 in c:\\users\\21213\\appdata\\local\\programs\\python\\python38\\lib\\site-packages (from tensorflow-intel==2.11.0->tensorflow) (1.51.1)\n",
      "Requirement already satisfied: wheel<1.0,>=0.23.0 in c:\\users\\21213\\appdata\\local\\programs\\python\\python38\\lib\\site-packages (from astunparse>=1.6.0->tensorflow-intel==2.11.0->tensorflow) (0.38.4)\n",
      "Requirement already satisfied: google-auth<3,>=1.6.3 in c:\\users\\21213\\appdata\\local\\programs\\python\\python38\\lib\\site-packages (from tensorboard<2.12,>=2.11->tensorflow-intel==2.11.0->tensorflow) (2.16.0)\n",
      "Requirement already satisfied: markdown>=2.6.8 in c:\\users\\21213\\appdata\\local\\programs\\python\\python38\\lib\\site-packages (from tensorboard<2.12,>=2.11->tensorflow-intel==2.11.0->tensorflow) (3.4.1)\n",
      "Requirement already satisfied: werkzeug>=1.0.1 in c:\\users\\21213\\appdata\\local\\programs\\python\\python38\\lib\\site-packages (from tensorboard<2.12,>=2.11->tensorflow-intel==2.11.0->tensorflow) (2.2.2)\n",
      "Requirement already satisfied: tensorboard-plugin-wit>=1.6.0 in c:\\users\\21213\\appdata\\local\\programs\\python\\python38\\lib\\site-packages (from tensorboard<2.12,>=2.11->tensorflow-intel==2.11.0->tensorflow) (1.8.1)\n",
      "Requirement already satisfied: tensorboard-data-server<0.7.0,>=0.6.0 in c:\\users\\21213\\appdata\\local\\programs\\python\\python38\\lib\\site-packages (from tensorboard<2.12,>=2.11->tensorflow-intel==2.11.0->tensorflow) (0.6.1)\n",
      "Requirement already satisfied: requests<3,>=2.21.0 in c:\\users\\21213\\appdata\\local\\programs\\python\\python38\\lib\\site-packages (from tensorboard<2.12,>=2.11->tensorflow-intel==2.11.0->tensorflow) (2.28.1)\n",
      "Requirement already satisfied: google-auth-oauthlib<0.5,>=0.4.1 in c:\\users\\21213\\appdata\\local\\programs\\python\\python38\\lib\\site-packages (from tensorboard<2.12,>=2.11->tensorflow-intel==2.11.0->tensorflow) (0.4.6)\n",
      "Requirement already satisfied: rsa<5,>=3.1.4 in c:\\users\\21213\\appdata\\local\\programs\\python\\python38\\lib\\site-packages (from google-auth<3,>=1.6.3->tensorboard<2.12,>=2.11->tensorflow-intel==2.11.0->tensorflow) (4.9)\n",
      "Requirement already satisfied: pyasn1-modules>=0.2.1 in c:\\users\\21213\\appdata\\local\\programs\\python\\python38\\lib\\site-packages (from google-auth<3,>=1.6.3->tensorboard<2.12,>=2.11->tensorflow-intel==2.11.0->tensorflow) (0.2.8)\n",
      "Requirement already satisfied: cachetools<6.0,>=2.0.0 in c:\\users\\21213\\appdata\\local\\programs\\python\\python38\\lib\\site-packages (from google-auth<3,>=1.6.3->tensorboard<2.12,>=2.11->tensorflow-intel==2.11.0->tensorflow) (5.3.0)\n",
      "Requirement already satisfied: requests-oauthlib>=0.7.0 in c:\\users\\21213\\appdata\\local\\programs\\python\\python38\\lib\\site-packages (from google-auth-oauthlib<0.5,>=0.4.1->tensorboard<2.12,>=2.11->tensorflow-intel==2.11.0->tensorflow) (1.3.1)\n",
      "Requirement already satisfied: importlib-metadata>=4.4 in c:\\users\\21213\\appdata\\local\\programs\\python\\python38\\lib\\site-packages (from markdown>=2.6.8->tensorboard<2.12,>=2.11->tensorflow-intel==2.11.0->tensorflow) (5.1.0)\n",
      "Requirement already satisfied: certifi>=2017.4.17 in c:\\users\\21213\\appdata\\local\\programs\\python\\python38\\lib\\site-packages (from requests<3,>=2.21.0->tensorboard<2.12,>=2.11->tensorflow-intel==2.11.0->tensorflow) (2022.12.7)\n",
      "Requirement already satisfied: idna<4,>=2.5 in c:\\users\\21213\\appdata\\local\\programs\\python\\python38\\lib\\site-packages (from requests<3,>=2.21.0->tensorboard<2.12,>=2.11->tensorflow-intel==2.11.0->tensorflow) (3.4)\n",
      "Requirement already satisfied: urllib3<1.27,>=1.21.1 in c:\\users\\21213\\appdata\\local\\programs\\python\\python38\\lib\\site-packages (from requests<3,>=2.21.0->tensorboard<2.12,>=2.11->tensorflow-intel==2.11.0->tensorflow) (1.26.13)\n",
      "Requirement already satisfied: charset-normalizer<3,>=2 in c:\\users\\21213\\appdata\\local\\programs\\python\\python38\\lib\\site-packages (from requests<3,>=2.21.0->tensorboard<2.12,>=2.11->tensorflow-intel==2.11.0->tensorflow) (2.1.1)\n",
      "Requirement already satisfied: MarkupSafe>=2.1.1 in c:\\users\\21213\\appdata\\local\\programs\\python\\python38\\lib\\site-packages (from werkzeug>=1.0.1->tensorboard<2.12,>=2.11->tensorflow-intel==2.11.0->tensorflow) (2.1.1)\n",
      "Requirement already satisfied: zipp>=0.5 in c:\\users\\21213\\appdata\\local\\programs\\python\\python38\\lib\\site-packages (from importlib-metadata>=4.4->markdown>=2.6.8->tensorboard<2.12,>=2.11->tensorflow-intel==2.11.0->tensorflow) (3.11.0)\n",
      "Requirement already satisfied: pyasn1<0.5.0,>=0.4.6 in c:\\users\\21213\\appdata\\local\\programs\\python\\python38\\lib\\site-packages (from pyasn1-modules>=0.2.1->google-auth<3,>=1.6.3->tensorboard<2.12,>=2.11->tensorflow-intel==2.11.0->tensorflow) (0.4.8)\n",
      "Requirement already satisfied: oauthlib>=3.0.0 in c:\\users\\21213\\appdata\\local\\programs\\python\\python38\\lib\\site-packages (from requests-oauthlib>=0.7.0->google-auth-oauthlib<0.5,>=0.4.1->tensorboard<2.12,>=2.11->tensorflow-intel==2.11.0->tensorflow) (3.2.2)\n"
     ]
    },
    {
     "name": "stderr",
     "output_type": "stream",
     "text": [
      "\n",
      "[notice] A new release of pip available: 22.3.1 -> 23.0\n",
      "[notice] To update, run: python.exe -m pip install --upgrade pip\n",
      "C:\\Users\\21213\\AppData\\Local\\Programs\\Python\\Python38\\lib\\site-packages\\tqdm\\auto.py:22: TqdmWarning: IProgress not found. Please update jupyter and ipywidgets. See https://ipywidgets.readthedocs.io/en/stable/user_install.html\n",
      "  from .autonotebook import tqdm as notebook_tqdm\n"
     ]
    }
   ],
   "source": [
    "!pip install tensorflow\n",
    "import ktrain\n",
    "from ktrain import text"
   ]
  }
 ],
 "metadata": {
  "kernelspec": {
   "display_name": "Python 3 (ipykernel)",
   "language": "python",
   "name": "python3"
  },
  "language_info": {
   "codemirror_mode": {
    "name": "ipython",
    "version": 3
   },
   "file_extension": ".py",
   "mimetype": "text/x-python",
   "name": "python",
   "nbconvert_exporter": "python",
   "pygments_lexer": "ipython3",
   "version": "3.8.0"
  }
 },
 "nbformat": 4,
 "nbformat_minor": 5
}
